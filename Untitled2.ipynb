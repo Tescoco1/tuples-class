{
 "cells": [
  {
   "cell_type": "code",
   "execution_count": 5,
   "id": "3361bc53",
   "metadata": {},
   "outputs": [
    {
     "name": "stdout",
     "output_type": "stream",
     "text": [
      "what year were you born 1990\n",
      "32\n"
     ]
    }
   ],
   "source": [
    "birth_year=input('what year were you born')\n",
    "age= 2022 - int(birth_year)\n",
    "print(age)"
   ]
  },
  {
   "cell_type": "code",
   "execution_count": null,
   "id": "1e79ac90",
   "metadata": {},
   "outputs": [],
   "source": [
    "username=input('please put in your username')\n",
    "password=input('please input your password')\n",
    "password='*'* len(password)\n",
    "length=len(password)\n",
    "print(f'{username} your password{password} is {length} long')"
   ]
  },
  {
   "cell_type": "code",
   "execution_count": 1,
   "id": "cd0682b4",
   "metadata": {},
   "outputs": [
    {
     "name": "stdout",
     "output_type": "stream",
     "text": [
      "true\n"
     ]
    }
   ],
   "source": [
    "a,b=12,5\n",
    "if a+b:\n",
    "    print('true')\n",
    "else:\n",
    "    print('false')"
   ]
  },
  {
   "cell_type": "code",
   "execution_count": 4,
   "id": "38a91206",
   "metadata": {},
   "outputs": [
    {
     "name": "stdout",
     "output_type": "stream",
     "text": [
      "hello\n"
     ]
    }
   ],
   "source": [
    "a=b= True\n",
    "if(a and b):\n",
    "    print('hello')\n",
    "else:\n",
    "    print('know program')"
   ]
  },
  {
   "cell_type": "code",
   "execution_count": 5,
   "id": "dc64fddd",
   "metadata": {},
   "outputs": [
    {
     "name": "stdout",
     "output_type": "stream",
     "text": [
      "True\n"
     ]
    }
   ],
   "source": [
    "print(True==1)"
   ]
  },
  {
   "cell_type": "code",
   "execution_count": 6,
   "id": "99fd8de0",
   "metadata": {},
   "outputs": [
    {
     "name": "stdout",
     "output_type": "stream",
     "text": [
      "False\n"
     ]
    }
   ],
   "source": [
    "print(5==3)"
   ]
  },
  {
   "cell_type": "code",
   "execution_count": 7,
   "id": "07ed2144",
   "metadata": {},
   "outputs": [
    {
     "name": "stdout",
     "output_type": "stream",
     "text": [
      "False\n"
     ]
    }
   ],
   "source": [
    "print(10==10.1)"
   ]
  },
  {
   "cell_type": "code",
   "execution_count": null,
   "id": "ea0eb60a",
   "metadata": {},
   "outputs": [],
   "source": []
  }
 ],
 "metadata": {
  "kernelspec": {
   "display_name": "Python 3 (ipykernel)",
   "language": "python",
   "name": "python3"
  },
  "language_info": {
   "codemirror_mode": {
    "name": "ipython",
    "version": 3
   },
   "file_extension": ".py",
   "mimetype": "text/x-python",
   "name": "python",
   "nbconvert_exporter": "python",
   "pygments_lexer": "ipython3",
   "version": "3.9.12"
  }
 },
 "nbformat": 4,
 "nbformat_minor": 5
}
